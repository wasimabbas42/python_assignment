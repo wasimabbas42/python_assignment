{
 "cells": [
  {
   "cell_type": "code",
   "execution_count": 5,
   "metadata": {},
   "outputs": [
    {
     "name": "stdout",
     "output_type": "stream",
     "text": [
      "Enter first value: 2\n",
      "Enter second value: 3\n",
      "\n",
      "Enter 1 to do addition :\n",
      "Enter 2 to do subtraction :\n",
      "Enter 3 to do multiplication :\n",
      "Enter 4 to do division :\n",
      "Enter 5 to do power: \n",
      "Enter your choice: 4\n",
      "\n",
      "Answer : 0.6666666666666666\n"
     ]
    }
   ],
   "source": [
    "#Question_1                           #Assignment\n",
    "ans = None\n",
    "num_1 = int(input(\"Enter first value: \"))\n",
    "num_2 = int(input(\"Enter second value: \"))\n",
    "\n",
    "print(\"\\nEnter 1 to do addition :\")\n",
    "print(\"Enter 2 to do subtraction :\")\n",
    "print(\"Enter 3 to do multiplication :\")\n",
    "print(\"Enter 4 to do division :\")\n",
    "print(\"Enter 5 to do power: \")\n",
    "choice = int(input(\"Enter your choice: \"))\n",
    "\n",
    "if choice == 1:\n",
    "    ans = num_1+num_2\n",
    "elif choice == 2:\n",
    "    ans = num_1-num_2\n",
    "elif choice == 3:\n",
    "    ans = num_1*num_2\n",
    "elif choice == 4:\n",
    "    ans = num_1/num_2\n",
    "elif choice == 5:\n",
    "    ans = num_1**num_2\n",
    "    \n",
    "print(f\"\\nAnswer : {ans}\")"
   ]
  },
  {
   "cell_type": "code",
   "execution_count": 6,
   "metadata": {},
   "outputs": [
    {
     "name": "stdout",
     "output_type": "stream",
     "text": [
      "Numeric value found : 6\n"
     ]
    }
   ],
   "source": [
    "# Question_2 \n",
    "the_list = [ \"Hello\",  \"Wasim\",6,\" Rehman \"]\n",
    "for value in the_list:\n",
    "    if type(value) == int or type(value) == float:\n",
    "        print(f\"Numeric value found : {value}\")\n",
    "        break"
   ]
  },
  {
   "cell_type": "code",
   "execution_count": 7,
   "metadata": {},
   "outputs": [
    {
     "name": "stdout",
     "output_type": "stream",
     "text": [
      "Key is added\n"
     ]
    }
   ],
   "source": [
    "#Question_3\n",
    "dic = {}\n",
    "dic[1] = \"Key is added\"\n",
    "\n",
    "print(dic[1])\n"
   ]
  },
  {
   "cell_type": "code",
   "execution_count": 9,
   "metadata": {},
   "outputs": [
    {
     "name": "stdout",
     "output_type": "stream",
     "text": [
      "Sum = 17.5\n"
     ]
    }
   ],
   "source": [
    "#Question_4\n",
    "result = 0\n",
    "dic = {1: 2 ,\n",
    "           2: \"Wasim\", \n",
    "           3: 5.5, \n",
    "           4:\"Not numerical\",\n",
    "           5: 10}\n",
    "\n",
    "for value in dic.values():\n",
    "    if type(value) == int or type(value) == float:\n",
    "        result = result + value        \n",
    "        \n",
    "print(f\"Sum = {result}\")"
   ]
  },
  {
   "cell_type": "code",
   "execution_count": 12,
   "metadata": {},
   "outputs": [
    {
     "name": "stdout",
     "output_type": "stream",
     "text": [
      "Duplicated 9\n",
      "Duplicated 2\n",
      "Duplicated 5\n",
      "Duplicated 5\n",
      "Duplicated 2\n",
      "Duplicated 9\n",
      "Duplicated 5\n"
     ]
    }
   ],
   "source": [
    "#Question_5\n",
    "the_list = [ 9, 2, 5, 5, 2, 1, 9, 5, 6,7,8,15]\n",
    "for value in the_list:\n",
    "    if  the_list.count(value) > 1:\n",
    "        print(f\"Duplicated {value}\")"
   ]
  },
  {
   "cell_type": "code",
   "execution_count": 13,
   "metadata": {},
   "outputs": [
    {
     "name": "stdout",
     "output_type": "stream",
     "text": [
      "3 Already exists\n"
     ]
    }
   ],
   "source": [
    "#Question_6\n",
    "dic = { 1: \"key1\",\n",
    "            2: \"key2\",\n",
    "            3: \"key3\"}\n",
    "\n",
    "given_key = 3\n",
    "\n",
    "for key in dic.keys():\n",
    "    if key == given_key:\n",
    "        print(f\"{given_key} Already exists\")"
   ]
  },
  {
   "cell_type": "code",
   "execution_count": null,
   "metadata": {},
   "outputs": [],
   "source": []
  }
 ],
 "metadata": {
  "kernelspec": {
   "display_name": "Python 3",
   "language": "python",
   "name": "python3"
  },
  "language_info": {
   "codemirror_mode": {
    "name": "ipython",
    "version": 3
   },
   "file_extension": ".py",
   "mimetype": "text/x-python",
   "name": "python",
   "nbconvert_exporter": "python",
   "pygments_lexer": "ipython3",
   "version": "3.7.3"
  }
 },
 "nbformat": 4,
 "nbformat_minor": 2
}
