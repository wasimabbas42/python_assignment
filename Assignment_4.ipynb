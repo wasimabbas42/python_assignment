{
 "cells": [
  {
   "cell_type": "code",
   "execution_count": 1,
   "metadata": {},
   "outputs": [
    {
     "name": "stdout",
     "output_type": "stream",
     "text": [
      "{'first_name': 'Wasim', 'last_name': 'Abbas', 'age': 23, 'city': 'Hyderabad'}\n",
      "{'first_name': 'Wasim', 'last_name': 'Abbas', 'age': 23, 'city': 'Hyderabad', 'Qualification': 'BE Telecommunication Engineering'}\n",
      "{'first_name': 'Wasim', 'last_name': 'Abbas', 'age': 23, 'city': 'Hyderabad'}\n"
     ]
    }
   ],
   "source": [
    " #Question_1                               #Assignment_4 by Wasim Abbas\n",
    "    person = {\n",
    "    'first_name':'Wasim',\n",
    "    'last_name': 'Abbas',\n",
    "    'age': 23,\n",
    "    'city': 'Hyderabad',\n",
    "    }\n",
    "print (person)\n",
    "person['Qualification']='BE Telecommunication Engineering'  \n",
    "print (person)\n",
    "del person['Qualification']\n",
    "print (person)"
   ]
  },
  {
   "cell_type": "code",
   "execution_count": 5,
   "metadata": {},
   "outputs": [
    {
     "name": "stdout",
     "output_type": "stream",
     "text": [
      "\n",
      "Hyderabad is a city Pakistan.\n",
      "  It has a population of about 1732693.\n",
      "  and It 138Th ranked in the world.\n",
      "\n",
      "Istanbul is a city Turkey.\n",
      "  It has a population of about 82003882.\n",
      "  and It 28Th  ranked in the world.\n",
      "\n",
      "Kuala Lumpur is a city Maylaisa.\n",
      "  It has a population of about 17310.\n",
      "  and It 29Th ranked in the world.\n"
     ]
    }
   ],
   "source": [
    " #Question_2\n",
    "cities = {\n",
    "    'Hyderabad': {\n",
    "        'country': 'Pakistan',\n",
    "        'population':1732693 ,\n",
    "        'ranked': '138th',\n",
    "        },\n",
    "    'Istanbul': {\n",
    "        'country': 'Turkey',\n",
    "        'population': 82003882 ,\n",
    "        'ranked': '28th ',\n",
    "        },\n",
    "    'Kuala lumpur': {\n",
    "        'country': 'Maylaisa',\n",
    "        'population': 17310 ,\n",
    "        'ranked': '29th',\n",
    "        }\n",
    "    }\n",
    "\n",
    "for city, city_info in cities.items():\n",
    "    country = city_info['country'].title()\n",
    "    population = city_info['population']\n",
    "    ranked = city_info['ranked'].title()\n",
    "\n",
    "    print(\"\\n\" + city.title() + \" is a city \" + country + \".\")\n",
    "    print(\"  It has a population of about \" + str(population) + \".\")\n",
    "    print(\"  and It \" + ranked + \" ranked in the world.\")"
   ]
  },
  {
   "cell_type": "code",
   "execution_count": 6,
   "metadata": {},
   "outputs": [
    {
     "name": "stdout",
     "output_type": "stream",
     "text": [
      "what is your age  33\n",
      "your ticket is $15\n"
     ]
    }
   ],
   "source": [
    " #Question_3\n",
    "for i in range(3):\n",
    "    age = int(input(\"what is your age  \"))\n",
    "    if age <=3:\n",
    "        print(\"your ticket is free  \")\n",
    "        break\n",
    "    if age >3 and age <=12:\n",
    "        print(\"your ticket is $10\")\n",
    "        break\n",
    "    if age > 12:\n",
    "        print(\"your ticket is $15\")\n",
    "        break"
   ]
  },
  {
   "cell_type": "code",
   "execution_count": 8,
   "metadata": {},
   "outputs": [
    {
     "name": "stdout",
     "output_type": "stream",
     "text": [
      "The cukoo's egg is one of my favorite book.\n"
     ]
    }
   ],
   "source": [
    " #Question_4\n",
    "def favorite_book(title):\n",
    "    \"\"\"Display a message about someone's favorite book.\"\"\"\n",
    "    print(title + \" is one of my favorite book.\")\n",
    "\n",
    "favorite_book('The cukoo\\'s egg' )"
   ]
  },
  {
   "cell_type": "code",
   "execution_count": 9,
   "metadata": {},
   "outputs": [
    {
     "name": "stdout",
     "output_type": "stream",
     "text": [
      "================HINT================\n",
      "try a number between 10 and 20\n",
      "enter your guess: 14\n",
      "your guess is wrong\n",
      "============better luck next time :-)============\n",
      "enter your guess: 12\n",
      "your guess is wrong\n",
      "============better luck next time :-)============\n",
      "enter your guess: 15\n",
      "your guess is wrong\n",
      "============better luck next time :-)============\n"
     ]
    }
   ],
   "source": [
    " #Question_5\n",
    "import random\n",
    "a=random.randint(1,30) #a is the hidden number\n",
    "print(\"================HINT================\")\n",
    "if a>= 1 and a < 10:\n",
    "    print(\"try a number between 1 and 10\")\n",
    "elif a >= 10 and a < 20:\n",
    "    print(\"try a number between 10 and 20\")\n",
    "elif a >= 20 and a < 30:\n",
    "    print(\"try a number between 20 and 30\")\n",
    "for i in range(0,3):\n",
    "    user = int(input(\"enter your guess: \"))\n",
    "    if user < 1 or user > 30:\n",
    "        print(\"choose a number between 1 and 30\")\n",
    "    else:\n",
    "        if user == a:\n",
    "            print(\"your guess is right\")\n",
    "            break\n",
    "        else:\n",
    "            print(\"your guess is wrong\")\n",
    "            print(\"============better luck next time :-)============\")"
   ]
  },
  {
   "cell_type": "code",
   "execution_count": null,
   "metadata": {},
   "outputs": [],
   "source": []
  }
 ],
 "metadata": {
  "kernelspec": {
   "display_name": "Python 3",
   "language": "python",
   "name": "python3"
  },
  "language_info": {
   "codemirror_mode": {
    "name": "ipython",
    "version": 3
   },
   "file_extension": ".py",
   "mimetype": "text/x-python",
   "name": "python",
   "nbconvert_exporter": "python",
   "pygments_lexer": "ipython3",
   "version": "3.7.3"
  }
 },
 "nbformat": 4,
 "nbformat_minor": 2
}
